{
 "cells": [
  {
   "cell_type": "code",
   "execution_count": null,
   "metadata": {},
   "outputs": [],
   "source": [
    "#1. Program function to Write or add N of users (along with users name,email,mobile number etc fileds) \n",
    "#    to a empty file and display that data.\n",
    "\n",
    "2. data=\"\"\"fgvlhj nkg kjg knjg n,bgihM KJGNLJH\n",
    "JGDKTHGC GHF\n",
    "JGYUFH V\n",
    "KHGTFV53\n",
    "569\n",
    "jhgfijhy\n",
    "6578+96GJFUJ\n",
    "\"\"\" from given string find out the \n",
    "                (i) No.of lower case letters\n",
    "                (ii) No.of Upper Case\n",
    "                (iii) No.of Digits\n",
    "                (iv) No.of alphanumrical numbers\n",
    "                (v) length of the string\n",
    "3. From given input string: #i/p: C S E S T U D E N T S\n",
    "    print output string like  #O/P: csestudentS\n",
    "\n",
    "                 \n",
    "4. Convert the given list to dictionary as given below\n",
    "input - [2,4,6,8,10]\n",
    "output - {2 : 4, 4 : 16, 6 : 36, 8 : 64, 10 : 100}\n",
    "\n",
    "5. Find the frequency of numbers b/w 0 to 9 in given list\n",
    "input - [9, 1, 3, 1, 7, 2, 1, 9, 8, 6, 5, 4, 1, 2, 3, 100, 99]\n",
    "output - {0 : 0, 1 : 4, 2 : 2, 3 : 2, 4 : 1, 5 : 1, 6 : 1, 7 : 1, 8 : 1, 9 : 2 }\n",
    "\n",
    "6. vowels = [\"a\",\"e\",\"i\",\"o\",\"u\"]\n",
    "seqence = [\"s\",\"u\",\"r\",\"y\",\"a\",\"p\",\"y\",\"t\",\"h\",\"o\",\"n\"] given by user\n",
    "filter only vowels"
   ]
  },
  {
   "cell_type": "code",
   "execution_count": null,
   "metadata": {},
   "outputs": [],
   "source": []
  },
  {
   "cell_type": "code",
   "execution_count": null,
   "metadata": {},
   "outputs": [],
   "source": []
  }
 ],
 "metadata": {
  "kernelspec": {
   "display_name": "Python 3",
   "language": "python",
   "name": "python3"
  },
  "language_info": {
   "codemirror_mode": {
    "name": "ipython",
    "version": 3
   },
   "file_extension": ".py",
   "mimetype": "text/x-python",
   "name": "python",
   "nbconvert_exporter": "python",
   "pygments_lexer": "ipython3",
   "version": "3.7.3"
  }
 },
 "nbformat": 4,
 "nbformat_minor": 2
}
