{
 "cells": [
  {
   "cell_type": "code",
   "execution_count": null,
   "metadata": {},
   "outputs": [],
   "source": [
    "#Agenda of Today:\n",
    "                           1. Regular Expressions\n",
    "                           2. Functional Programming"
   ]
  },
  {
   "cell_type": "code",
   "execution_count": null,
   "metadata": {},
   "outputs": [],
   "source": [
    "#Regular Expressions?\n",
    "    #Def: Its a sequence of characters that defines a search pattern.\n",
    "     -Its also called as RegEx or re module (Its a predefined module)\n",
    "  #what is the use of re?\n",
    "     - it can be used to search, edit and manipulate the text/string.\n",
    "#Note:\n",
    "    Search pattern can be formed along with some rules:\n",
    "        those rules including \n",
    "         (i) Meta Characters   -        [],.,^,$,?,{},(),\\,|\n",
    "         (ii) Special Sequences  - \\A,\\a,\\B,\\b, \\s,\\S,\\d, \\D\n",
    "        (iii) Sets  - [a-z],   {0-9} etc."
   ]
  },
  {
   "cell_type": "code",
   "execution_count": null,
   "metadata": {},
   "outputs": [],
   "source": [
    "#Re module - Functions:\n",
    "1. match()\n",
    "2. search()\n",
    "3. findall()\n",
    "4. split()\n",
    "5. sub()"
   ]
  },
  {
   "cell_type": "code",
   "execution_count": null,
   "metadata": {},
   "outputs": [],
   "source": [
    "#match():\n",
    "this function searches the pattern only at the begining of the string and returns a first occurence only.\n",
    "and if match is not found then its returns NONE object.\n",
    "\n",
    "#syntax: \n",
    "    match(pattern,string)"
   ]
  },
  {
   "cell_type": "code",
   "execution_count": 8,
   "metadata": {},
   "outputs": [
    {
     "name": "stdout",
     "output_type": "stream",
     "text": [
      "<re.Match object; span=(0, 1), match='t'>\n"
     ]
    }
   ],
   "source": [
    "#Example 1:\n",
    "import re\n",
    "string = \"today is Saturday\"\n",
    "pattern = \"t\"\n",
    "print(re.match(pattern,string))"
   ]
  },
  {
   "cell_type": "code",
   "execution_count": 16,
   "metadata": {},
   "outputs": [
    {
     "name": "stdout",
     "output_type": "stream",
     "text": [
      "<re.Match object; span=(0, 6), match='Python'>\n"
     ]
    }
   ],
   "source": [
    "#Example 2:\n",
    "import re\n",
    "string = \"Python if Fun\"\n",
    "pattern = \"\\APython\"       #Returns a match if the specified characters are at the beginning of the string\t  \n",
    "match = re.match(pattern,string)\n",
    "print(match)"
   ]
  },
  {
   "cell_type": "code",
   "execution_count": 20,
   "metadata": {},
   "outputs": [
    {
     "name": "stdout",
     "output_type": "stream",
     "text": [
      "<re.Match object; span=(5, 6), match='c'>\n"
     ]
    }
   ],
   "source": [
    "#Search():\n",
    "#its searches the entire lines of string and returns its first occurence only\n",
    "#syntax: re.search(pattern,string)\n",
    "import re\n",
    "print(re.search(\"c\",\"apssdc in vijaywada city\"))"
   ]
  },
  {
   "cell_type": "code",
   "execution_count": 25,
   "metadata": {},
   "outputs": [
    {
     "name": "stdout",
     "output_type": "stream",
     "text": [
      "surya\n",
      "sun\n",
      "srinivas\n",
      "yashu\n",
      "vamsi\n"
     ]
    }
   ],
   "source": [
    "#example 2:\n",
    "import re\n",
    "names = [\"surya\",\"sun\",\"srinivas\",\"ramya\",\"karthik\",\"zakir\",\"yashu\",\"vamsi\"]\n",
    "for name in names:\n",
    "    if re.search(\"s\",name):\n",
    "        print(name)"
   ]
  },
  {
   "cell_type": "code",
   "execution_count": 33,
   "metadata": {},
   "outputs": [
    {
     "data": {
      "text/plain": [
       "['hello ', ' good evening ', ',.How r u Mr.']"
      ]
     },
     "execution_count": 33,
     "metadata": {},
     "output_type": "execute_result"
    }
   ],
   "source": [
    "#findall(): re.findall(pattern,string)\n",
    "#It returns the a list of strings containing all matches in a given string.\n",
    "#To extract the numbers of from combo string.\n",
    "import re\n",
    "string = \"hello 3278383 good evening 8593373,.How r u Mr.503\"\n",
    "pattern = \"\\d+\"  #Returns a match where the string contains digits (numbers from 0-9)\n",
    "output = re.findall(pattern,string)\n",
    "output"
   ]
  },
  {
   "cell_type": "code",
   "execution_count": 40,
   "metadata": {},
   "outputs": [
    {
     "data": {
      "text/plain": [
       "['Mond',\n",
       " 'y Everyone Should ',\n",
       " 'ttend the meet ',\n",
       " 't exactly at 4.00 PM along with ur lappy']"
      ]
     },
     "execution_count": 40,
     "metadata": {},
     "output_type": "execute_result"
    }
   ],
   "source": [
    "#Split():\n",
    " #Syntax:     split(pattern,string,maxlimit) \n",
    "    \n",
    "    #Def: Its Spilts the string where is match found and return a list of strings where the split have occured.\n",
    "import re\n",
    "string = \"Monday Everyone Should attend the meet at exactly at 4.00 PM along with ur lappy\"\n",
    "#import re\n",
    "pattern = \"a\"\n",
    "re.split(pattern,string,3)"
   ]
  },
  {
   "cell_type": "code",
   "execution_count": 48,
   "metadata": {},
   "outputs": [
    {
     "data": {
      "text/plain": [
       "'abc123\\\\xyz3563464848python36353626'"
      ]
     },
     "execution_count": 48,
     "metadata": {},
     "output_type": "execute_result"
    }
   ],
   "source": [
    "#Sub function:\n",
    "#Syntax:  re.sub(pattern,replace,string)\n",
    " # Its retunrs a string where matched occurences are replaced with values of replace variable.\n",
    "import re\n",
    "string = \"abc 123\\ xyz \\n 3563 464848 \\n python 36353626 \\n\"\n",
    "pattern = \"\\s\" #Returns a match where the string contains a white space character\n",
    "replace = \"\"\n",
    "new_string = re.sub(pattern,replace,string)\n",
    "new_string"
   ]
  },
  {
   "cell_type": "code",
   "execution_count": 55,
   "metadata": {},
   "outputs": [
    {
     "name": "stdout",
     "output_type": "stream",
     "text": [
      "(17, 24)\n",
      "(54, 61)\n",
      "65\n"
     ]
    }
   ],
   "source": [
    "#finditer():\n",
    "string = \"apssdc is always inform to students along with latest information\"\n",
    "for word in re.finditer(\"inform.\",string):   #. means its matches any character (expect newline character)\n",
    "    res = word.span()\n",
    "    print(res)\n",
    "print(len(string))"
   ]
  },
  {
   "cell_type": "code",
   "execution_count": null,
   "metadata": {},
   "outputs": [],
   "source": [
    "#practical cases of regular Expressions:\n",
    "1. Phone Number Validation\n",
    "2. E-mail Address Validation\n",
    "3. Web Scraping "
   ]
  },
  {
   "cell_type": "code",
   "execution_count": null,
   "metadata": {},
   "outputs": [],
   "source": [
    "#Phone Number Validation:\n",
    "444-333-12345\n",
    "356-679-4546\n",
    "67-7363-3737\n",
    "536-336-9999\n",
    "#Rules :\n",
    "        1. starts with 3 digits and - sign and\n",
    "        2. middle 3 digits and - sign\n",
    "        3  ends with 4 digits."
   ]
  },
  {
   "cell_type": "code",
   "execution_count": 58,
   "metadata": {},
   "outputs": [
    {
     "name": "stdout",
     "output_type": "stream",
     "text": [
      "356-679-4546 num is valid\n"
     ]
    }
   ],
   "source": [
    "#example:\n",
    "import re\n",
    "phone = \"356-679-4546\"\n",
    "pattern= \"\\w{3}-\\w{3}-\\w{4}\"  #Returns a match where the string contains any word characters \n",
    "                              #(characters from a to Z, digits from 0-9,\n",
    "                              #and the underscore _ character)\t and {}-Exactly the specified number of occurrences\n",
    "if re.search(pattern,phone):\n",
    "    print(phone,\"num is valid\")\n",
    "else:\n",
    "    print(phone,\"num is not valid\")"
   ]
  },
  {
   "cell_type": "markdown",
   "metadata": {},
   "source": []
  },
  {
   "cell_type": "code",
   "execution_count": 65,
   "metadata": {},
   "outputs": [
    {
     "name": "stdout",
     "output_type": "stream",
     "text": [
      "enter your number8373736336373\n",
      "8373736336373 its invalid number\n"
     ]
    }
   ],
   "source": [
    "#Standard phone number validation:\n",
    "#number = \"+918328401910\"                  #1. starting digit start with 6,7,8,9\n",
    "number = input(\"enter your number\")             #| -Either or\t\"falls|stays\"\t ^-starts with and $-ends with\n",
    "                                                     # []\t                     A set of characters\t \n",
    "pattern = \"^[6-9][0-9]{9}$|^[+][9][1][6-9][0-9]{9}$\"\n",
    "if re.search(pattern,number):\n",
    "    print(number,\"its valid number\")\n",
    "else:\n",
    "    print(number,\"its invalid number\")"
   ]
  },
  {
   "cell_type": "code",
   "execution_count": null,
   "metadata": {},
   "outputs": [],
   "source": [
    "#Email-Id Validation:\n",
    "#Rules:\n",
    "              example: iamsurya93@gmail.com\n",
    "1. before @ its allow 1 to 25 lower or upper case letters(a-zA-Z) and numbers(0-9),.,_\n",
    "2. after @ characters (a-z) 3-8 followed by .\n",
    "3. after .com ,.in,co.in,.info..etc [2-8] characters"
   ]
  },
  {
   "cell_type": "code",
   "execution_count": 69,
   "metadata": {},
   "outputs": [
    {
     "name": "stdout",
     "output_type": "stream",
     "text": [
      "Enter your mail idkaranam.s@apssdc.in\n",
      "karanam.s@apssdc.in is valid\n"
     ]
    }
   ],
   "source": [
    "import re\n",
    "#myemail_id= \"iamsurya93@gmail.com\"\n",
    "myemail_id  = input(\"Enter your mail id\")\n",
    "pattern = \"^[a-zA-Z0-9._]{4,25}[@][a-z]{3,8}[.][a-z]{2,8}$\"\n",
    "if re.search(pattern,myemail_id):\n",
    "    print(myemail_id,\"is valid\")\n",
    "else:\n",
    "    print(myemail_id,\"is not valid\")"
   ]
  },
  {
   "cell_type": "code",
   "execution_count": null,
   "metadata": {},
   "outputs": [],
   "source": [
    "#Functional Programming:\n",
    "1. map()\n",
    "2. filter()\n",
    "3. reduce()\n",
    "4. lambda"
   ]
  },
  {
   "cell_type": "code",
   "execution_count": null,
   "metadata": {},
   "outputs": [],
   "source": [
    "#map() function:\n",
    "#syntax:\n",
    "    map(functionname,sequence)"
   ]
  },
  {
   "cell_type": "code",
   "execution_count": 76,
   "metadata": {},
   "outputs": [
    {
     "data": {
      "text/plain": [
       "[52523105,\n",
       " 6390089298325,\n",
       " 2505854525396302085,\n",
       " 3106294946057332265,\n",
       " 65979822770376612841]"
      ]
     },
     "execution_count": 76,
     "metadata": {},
     "output_type": "execute_result"
    }
   ],
   "source": [
    "def addsum(x):\n",
    "    return x*x+5+pow(x,5)\n",
    "li = [35,364,4784,4994,9202]      #its applies the functionality to each element of given sequence \n",
    "list(map(addsum,li))"
   ]
  },
  {
   "cell_type": "code",
   "execution_count": 78,
   "metadata": {},
   "outputs": [
    {
     "data": {
      "text/plain": [
       "[5, 6, 8, 9, 90, 27383]"
      ]
     },
     "execution_count": 78,
     "metadata": {},
     "output_type": "execute_result"
    }
   ],
   "source": [
    "#filter():  filter(functionname,sequence)\n",
    "def numFilter(n):\n",
    "    if n>=5:\n",
    "        return n\n",
    "list(filter(numFilter,[4,3,5,6,8,9,90,0,27383]))"
   ]
  },
  {
   "cell_type": "code",
   "execution_count": 80,
   "metadata": {},
   "outputs": [
    {
     "data": {
      "text/plain": [
       "['LOL', 'MADAM', 'ABA']"
      ]
     },
     "execution_count": 80,
     "metadata": {},
     "output_type": "execute_result"
    }
   ],
   "source": [
    "#string filter\n",
    "def stringFilter(s):\n",
    "    if s == s[::-1]:\n",
    "        return s\n",
    "list(filter(stringFilter,[\"python\",\"LOL\",\"MADAM\",\"ABA\",\"saturday\",\"today\"]))"
   ]
  },
  {
   "cell_type": "code",
   "execution_count": null,
   "metadata": {},
   "outputs": [],
   "source": []
  }
 ],
 "metadata": {
  "kernelspec": {
   "display_name": "Python 3",
   "language": "python",
   "name": "python3"
  },
  "language_info": {
   "codemirror_mode": {
    "name": "ipython",
    "version": 3
   },
   "file_extension": ".py",
   "mimetype": "text/x-python",
   "name": "python",
   "nbconvert_exporter": "python",
   "pygments_lexer": "ipython3",
   "version": "3.7.3"
  }
 },
 "nbformat": 4,
 "nbformat_minor": 2
}
