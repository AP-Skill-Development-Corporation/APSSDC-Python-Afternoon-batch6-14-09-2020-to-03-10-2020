{
 "cells": [
  {
   "cell_type": "code",
   "execution_count": null,
   "metadata": {},
   "outputs": [],
   "source": [
    "#Metacharacters are characters with a special meaning:\n",
    "\n",
    "#Character\t                  Description\t                      Example\t    \n",
    "\n",
    "[]\t                     A set of characters\t                 \"[a-m]\"\n",
    "\\\t                   Signals a special sequence \n",
    "                (can also be used to escape special characters)\t   \"\\d\"\t\n",
    "    \n",
    ".\t              Any character (except newline character)\t      \"he..o\"\t\n",
    "^\t                Starts with\t                                 \"^hello\"\t\n",
    "$\t                 Ends with\t                                 \"world$\"\t\n",
    "*\t                 Zero or more occurrences\t                 \"aix*\"\t\n",
    "+\t                 One or more occurrences\t                  \"aix+\"\t\n",
    "{}\t                 Exactly the specified number of occurrences\t\"al{2}\"\t\n",
    "|\t                 Either or\t\"falls|stays\"\t\n",
    "()\t                 Capture and group"
   ]
  },
  {
   "cell_type": "code",
   "execution_count": null,
   "metadata": {},
   "outputs": [],
   "source": [
    "#Special Sequences\n",
    "#A special sequence is a \\ followed by one of the characters in the list below, and has a special meaning:\n",
    "\n",
    "#Character\t                         Description\t                             Example\n",
    "\\A\t                 Returns a match if the specified characters \n",
    "                     are at the beginning of the string\t                         \"\\AThe\"\t\n",
    "    \n",
    "\\b\t                 Returns a match where the specified characters \n",
    "                     are at the beginning or at the end of a word\n",
    "                     (the \"r\" in the beginning is making sure that the \n",
    "                      string is being treated as a \"raw string\")\t             r\"\\bain\"r\"ain\\b\"\t\n",
    "        \n",
    "\\B\t                  Returns a match where the specified characters are present, \n",
    "                      but NOT at the beginning (or at the end) of a word\n",
    "                      (the \"r\" in the beginning is making sure that the string is \n",
    "                      being treated as a \"raw string\")\t                         r\"\\Bain\"r\"ain\\B\"\t\n",
    "        \n",
    "\\d\t                  Returns a match where the string contains digits \n",
    "                      (numbers from 0-9)\t                                        \"\\d\"\t\n",
    "    \n",
    "\\D\t                  Returns a match where the string DOES NOT contain digits\t     \"\\D\"\t\n",
    "\n",
    "\\s\t                  Returns a match where the string contains a white space character\t\"\\s\"\t\n",
    "\n",
    "\\S\t                  Returns a match where the string DOES NOT contain a white space character\t\"\\S\"\t\n",
    "\n",
    "\\w\t                  Returns a match where the string contains any word characters \n",
    "                      (characters from a to Z, digits from 0-9,\n",
    "                       and the underscore _ character)\t                                      \"\\w\"\t\n",
    "    \n",
    "\\W\t                  Returns a match where the string DOES NOT contain any word characters\t   \"\\W\"\t\n",
    "\n",
    "\\Z\t                  Returns a match if the specified characters are at the end of the string\t\"Spain\\Z\"\t\n"
   ]
  },
  {
   "cell_type": "code",
   "execution_count": null,
   "metadata": {},
   "outputs": [],
   "source": [
    "#Sets\n",
    "#A set is a set of characters inside a pair of square brackets [] with a special meaning:\n",
    "\n",
    "#Set                   \tDescription\n",
    "\n",
    "[arn]\t                Returns a match where one of the specified characters (a, r, or n) are present\t\n",
    "[a-n]\t                Returns a match for any lower case character, alphabetically between a and n\t\n",
    "[^arn]\t                Returns a match for any character EXCEPT a, r, and n\t\n",
    "[0123]\t                Returns a match where any of the specified digits (0, 1, 2, or 3) are present\t\n",
    "[0-9]\t                Returns a match for any digit between 0 and 9\t\n",
    "[0-5][0-9]\t            Returns a match for any two-digit numbers from 00 and 59\t\n",
    "[a-zA-Z]\t            Returns a match for any character alphabetically between a and z, lower case OR upper case\t\n",
    "[+]\t                    In sets, +, *, ., |, (), $,{} has no special meaning, \n",
    "                        so [+] means: return a match for any + character in the string"
   ]
  },
  {
   "cell_type": "code",
   "execution_count": null,
   "metadata": {},
   "outputs": [],
   "source": []
  }
 ],
 "metadata": {
  "kernelspec": {
   "display_name": "Python 3",
   "language": "python",
   "name": "python3"
  },
  "language_info": {
   "codemirror_mode": {
    "name": "ipython",
    "version": 3
   },
   "file_extension": ".py",
   "mimetype": "text/x-python",
   "name": "python",
   "nbconvert_exporter": "python",
   "pygments_lexer": "ipython3",
   "version": "3.7.3"
  }
 },
 "nbformat": 4,
 "nbformat_minor": 2
}
