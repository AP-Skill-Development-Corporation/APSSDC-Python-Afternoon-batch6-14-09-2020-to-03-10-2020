{
 "cells": [
  {
   "cell_type": "code",
   "execution_count": null,
   "metadata": {},
   "outputs": [],
   "source": [
    "#agenda of today:\n",
    "                       1. Data science Packages/libraries\n",
    "                            (A) Numpy   - for Scientific Computing\n",
    "                            (B)  Pandas - Data Analysis, Data Cleaning\n",
    "                            (C) Matplotlib - Data Representation in the form of 2D Graphics."
   ]
  },
  {
   "cell_type": "code",
   "execution_count": null,
   "metadata": {},
   "outputs": [],
   "source": [
    "#Numpy-      Num+py = Numrical Python\n",
    "\n",
    "Numpy is an open source library available and predefined library package used for scientific computing.\n",
    "    Mainly Deals \n",
    "               (i)   mathematical \n",
    "               (ii)  Scientific\n",
    "               (iii) Engineering \n",
    "                (iv) Data Science programming.\n",
    "                (v)  statical operations\n",
    "                (vi) mutli-dimesinal arrays and matrices multiplication.\n",
    "        #Author : Travis Oliphant\n",
    "        #First Release : 1995 \n",
    "        #writeen in - Python Programming,C\n",
    "        \n",
    "#NOTE:\n",
    "   Its Contains a powerful n-dimensional array object.\n",
    "   Its also used in \n",
    "                           1. linear algebra\n",
    "                           2. random number capability\n",
    "        \n",
    "#what is numpy arrays?\n",
    "     - Numpy array is powerful N-dimensional array object which is in the form of rows and columns.\n",
    "     - Which can be initialize Numpy arrays from nested python lists"
   ]
  },
  {
   "cell_type": "code",
   "execution_count": null,
   "metadata": {},
   "outputs": [],
   "source": [
    "#How to install numpy packages?\n",
    "pip install numpy"
   ]
  },
  {
   "cell_type": "code",
   "execution_count": 6,
   "metadata": {},
   "outputs": [
    {
     "data": {
      "text/plain": [
       "(3,)"
      ]
     },
     "execution_count": 6,
     "metadata": {},
     "output_type": "execute_result"
    }
   ],
   "source": [
    "#How to use numpy : (single dimensional Array)\n",
    "import numpy as np\n",
    "a=np.array([1,2,3])\n",
    "a.shape"
   ]
  },
  {
   "cell_type": "code",
   "execution_count": 12,
   "metadata": {},
   "outputs": [
    {
     "data": {
      "text/plain": [
       "(2, 3)"
      ]
     },
     "execution_count": 12,
     "metadata": {},
     "output_type": "execute_result"
    }
   ],
   "source": [
    "#Multi Dimensional Array:\n",
    "import numpy as np\n",
    "b=np.array([(5,6,7),(7,8,5)])\n",
    "b.shape"
   ]
  },
  {
   "cell_type": "code",
   "execution_count": 16,
   "metadata": {},
   "outputs": [
    {
     "name": "stdout",
     "output_type": "stream",
     "text": [
      "[1 2 4 5]\n",
      "int32\n",
      "[1.6 7.8 8.9 3.4]\n",
      "float64\n"
     ]
    }
   ],
   "source": [
    "#Numpy array attributes:\n",
    "a1 = np.array([1,2,4,5])\n",
    "print(a1)\n",
    "print(a1.dtype)\n",
    "a2 = np.array([1.6,7.8,8.9,3.4])\n",
    "print(a2)\n",
    "print(a2.dtype)"
   ]
  },
  {
   "cell_type": "code",
   "execution_count": 23,
   "metadata": {},
   "outputs": [
    {
     "name": "stdout",
     "output_type": "stream",
     "text": [
      "[1 2 3 4 5 6]\n",
      "(6,)\n",
      "[[1 2 3]\n",
      " [4 5 6]]\n",
      "(2, 3)\n",
      "[[[1 3 5]\n",
      "  [5 6 7]]\n",
      "\n",
      " [[5 6 7]\n",
      "  [6 7 8]]]\n",
      "(2, 2, 3)\n"
     ]
    }
   ],
   "source": [
    "#shape of array:\n",
    "import numpy as np\n",
    "ar1 = np.array([1,2,3,4,5,6])              #1-d array\n",
    "ar2 = np.array([[1,2,3],[4,5,6]])                        #2-d array\n",
    "ar3 = np.array([[[1,3,5],[5,6,7]],[[5,6,7],[6,7,8]]])    #3-d array\n",
    "print(ar1)\n",
    "print(ar1.shape)\n",
    "print(ar2)\n",
    "print(ar2.shape)\n",
    "print(ar3)\n",
    "print(ar3.shape)"
   ]
  },
  {
   "cell_type": "code",
   "execution_count": 28,
   "metadata": {},
   "outputs": [
    {
     "name": "stdout",
     "output_type": "stream",
     "text": [
      "1\n",
      "2\n",
      "3\n"
     ]
    }
   ],
   "source": [
    "#dimesion of an array:\n",
    "#ndim():\n",
    "import numpy as np\n",
    "a1 = np.array([1,2,3,4,5])\n",
    "print(a1.ndim)\n",
    "a2 = np.array([[1,3,4],[6,7,9]])\n",
    "print(a2.ndim)\n",
    "a3 = np.array([[[1,3,5],[5,6,7]],[[5,6,7],[6,7,8]]])\n",
    "print(a3.ndim)"
   ]
  },
  {
   "cell_type": "code",
   "execution_count": 44,
   "metadata": {},
   "outputs": [
    {
     "name": "stdout",
     "output_type": "stream",
     "text": [
      "1\n",
      "(8,)\n",
      "before reshape = [ 1  2  3  4  5  6 67 77]\n",
      "after reshape = [[ 1  2  3  4]\n",
      " [ 5  6 67 77]]\n",
      "(2, 4)\n",
      "2\n"
     ]
    }
   ],
   "source": [
    "#reshape of array:\n",
    "import numpy as np\n",
    "n1 = np.array([1,2,3,4,5,6,67,77])\n",
    "print(n1.ndim)\n",
    "print(n1.shape)\n",
    "print(\"before reshape =\",n1)\n",
    "n2=n1.reshape(2,4)\n",
    "print(\"after reshape =\",n2)\n",
    "print(n2.shape)\n",
    "print(n2.ndim)"
   ]
  },
  {
   "cell_type": "code",
   "execution_count": 52,
   "metadata": {},
   "outputs": [
    {
     "name": "stdout",
     "output_type": "stream",
     "text": [
      "[ 3 55  5 23  4  5 66  6]\n",
      "[ 3 55  5]\n",
      "[[ 3 55  5  0]\n",
      " [ 0  0  0  0]]\n",
      "[[ 3 55  5]\n",
      " [ 0  0  0]\n",
      " [ 0  0  0]]\n"
     ]
    }
   ],
   "source": [
    "#resize an array:\n",
    "#resize() method modifies exiting shape and array itself.\n",
    "import numpy as np\n",
    "n1 = np.array([3,55,5,23,4,5,66,6])\n",
    "print(n1)\n",
    "n1.resize(3)\n",
    "print(n1)\n",
    "n1.resize(2,4)\n",
    "print(n1)\n",
    "n1.resize(3,3)\n",
    "print(n1)"
   ]
  },
  {
   "cell_type": "code",
   "execution_count": 64,
   "metadata": {},
   "outputs": [
    {
     "name": "stdout",
     "output_type": "stream",
     "text": [
      "[0 1 2 3 4 5 6 7 8 9]\n",
      "[ 0  3  6  9 12 15 18 21 24 27]\n",
      "(10,)\n",
      "[[0 1 2]\n",
      " [3 4 5]\n",
      " [6 7 8]]\n"
     ]
    }
   ],
   "source": [
    "#special functions for Numpy arrays generation:\n",
    "#arange(): creates an array with specified spaced values b/w the start,end,internal values\n",
    "#syntax:   arange(start,stop,intenal)\n",
    "import numpy as np\n",
    "a1 = np.arange(10)\n",
    "print(a1)\n",
    "a2 = np.arange(0,30,3)\n",
    "print(a2)\n",
    "print(a2.shape)\n",
    "a3 = np.arange(9).reshape(3,3)\n",
    "print(a3)"
   ]
  },
  {
   "cell_type": "code",
   "execution_count": 68,
   "metadata": {},
   "outputs": [
    {
     "name": "stdout",
     "output_type": "stream",
     "text": [
      "[ 1. 12.]\n",
      "[ 1.          4.66666667  8.33333333 12.        ]\n",
      "[[ 1.  2.  3.]\n",
      " [ 4.  5.  6.]\n",
      " [ 7.  8.  9.]\n",
      " [10. 11. 12.]]\n"
     ]
    }
   ],
   "source": [
    "#arrays with linspace():  functions generates an array with evenly spaced values b/w start,stop,internal values\n",
    "import numpy as np\n",
    "n1 = np.linspace(1,12,2)\n",
    "print(n1)\n",
    "n2 = np.linspace(1,12,4)\n",
    "print(n2)\n",
    "n3 = np.linspace(1,12,12).reshape(4,3)\n",
    "print(n3)"
   ]
  },
  {
   "cell_type": "code",
   "execution_count": 82,
   "metadata": {},
   "outputs": [
    {
     "name": "stdout",
     "output_type": "stream",
     "text": [
      "[0. 0. 0.]\n",
      "float64\n",
      "[[0 0 0 0]\n",
      " [0 0 0 0]]\n",
      "int64\n",
      "int32\n"
     ]
    }
   ],
   "source": [
    "#Zero array:\n",
    "import numpy as np\n",
    "a1 = np.zeros(3)\n",
    "a2 = np.zeros((2,4),dtype=\"int64\")\n",
    "a3 = np.zeros((3,6),dtype=\"int32\")\n",
    "print(a1)\n",
    "print(a1.dtype)\n",
    "print(a2)\n",
    "print(a2.dtype)\n",
    "print(a3.dtype)"
   ]
  },
  {
   "cell_type": "code",
   "execution_count": 86,
   "metadata": {},
   "outputs": [
    {
     "data": {
      "text/plain": [
       "array([[1, 1, 1, 1, 1],\n",
       "       [1, 1, 1, 1, 1],\n",
       "       [1, 1, 1, 1, 1],\n",
       "       [1, 1, 1, 1, 1],\n",
       "       [1, 1, 1, 1, 1],\n",
       "       [1, 1, 1, 1, 1]], dtype=int64)"
      ]
     },
     "execution_count": 86,
     "metadata": {},
     "output_type": "execute_result"
    }
   ],
   "source": [
    "#one array: ones()\n",
    "import numpy as np\n",
    "np.ones(3,dtype=\"int32\")\n",
    "np.ones((6,5),dtype=\"int64\")"
   ]
  },
  {
   "cell_type": "code",
   "execution_count": 92,
   "metadata": {},
   "outputs": [
    {
     "name": "stdout",
     "output_type": "stream",
     "text": [
      "[100 100 100]\n",
      "[[99999 99999 99999 99999 99999]\n",
      " [99999 99999 99999 99999 99999]]\n"
     ]
    }
   ],
   "source": [
    "#full array:  full(dimension,speciled number)\n",
    "import numpy as np\n",
    "a1 = np.full((3),100)\n",
    "a2=np.full((2,5),99999)\n",
    "print(a1)\n",
    "print(a2)"
   ]
  },
  {
   "cell_type": "code",
   "execution_count": 106,
   "metadata": {},
   "outputs": [
    {
     "data": {
      "text/plain": [
       "array([[1., 0., 0., 0., 0.],\n",
       "       [0., 1., 0., 0., 0.],\n",
       "       [0., 0., 1., 0., 0.],\n",
       "       [0., 0., 0., 1., 0.],\n",
       "       [0., 0., 0., 0., 1.]])"
      ]
     },
     "execution_count": 106,
     "metadata": {},
     "output_type": "execute_result"
    }
   ],
   "source": [
    "#eye array:  RETURNS an array with where all elements are equal to zero,expect\n",
    "#           for the kth diagonal whose values are equal to one.\n",
    "import numpy as np\n",
    "a1 = np.eye(3,dtype=\"int32\")\n",
    "a2 = np.eye(5,k=0)\n",
    "a2"
   ]
  },
  {
   "cell_type": "code",
   "execution_count": 121,
   "metadata": {},
   "outputs": [
    {
     "name": "stdout",
     "output_type": "stream",
     "text": [
      "[[0.78518905 0.63476529]\n",
      " [0.62808953 0.24533248]\n",
      " [0.61474615 0.65761329]]\n",
      "[[-1.12262877  0.37827565]\n",
      " [-0.13125665 -0.2953823 ]\n",
      " [-0.31092068 -0.05679359]]\n",
      "[[14  1  3  6]\n",
      " [ 2  3  2  9]]\n"
     ]
    }
   ],
   "source": [
    "#randow number array:\n",
    "#np.random.rand  (its generates uniformly distributed b/w 0 and 1)\n",
    "#np.random.randn ( its generates normally distributed blw 0 an 1)\n",
    "#np.random.randint (ist geneates uniformly distributed b/w 0 and given number)\n",
    "\n",
    "import numpy as np\n",
    "print(np.random.rand(3,2))\n",
    "print(np.random.randn(3,2))\n",
    "print(np.random.randint(15, size = (2,4)))"
   ]
  },
  {
   "cell_type": "code",
   "execution_count": 141,
   "metadata": {},
   "outputs": [
    {
     "name": "stdout",
     "output_type": "stream",
     "text": [
      "apssdc\n",
      "['60' '90.5' 'Abc']\n",
      "['50' '80.9' '45.6']\n",
      "['apssdc' '500']\n"
     ]
    }
   ],
   "source": [
    "#Operations on numpy arrays:\n",
    "#indexing:\n",
    "import numpy as np\n",
    "a1 = np.array([1,2,34,5,6,90])\n",
    "a1[0]\n",
    "a1[-1]\n",
    "a1[3]\n",
    "a2= np.array([[50,60,\"python\"],[80.9,90.5,\"apssdc\"],[45.6,\"Abc\",500]])\n",
    "print(a2[1,2])\n",
    "print(a2[0:,1])\n",
    "print(a2[0:3,0])\n",
    "print(a2[1:3,2])"
   ]
  },
  {
   "cell_type": "code",
   "execution_count": 146,
   "metadata": {},
   "outputs": [
    {
     "name": "stdout",
     "output_type": "stream",
     "text": [
      "[[1 2 3 6 2 4]\n",
      " [6 7 9 8 9 3]]\n",
      "[[1 2 3]\n",
      " [6 7 9]\n",
      " [6 2 4]\n",
      " [8 9 3]]\n",
      "[[1 2 3]\n",
      " [6 7 9]\n",
      " [6 2 4]\n",
      " [8 9 3]]\n",
      "[[1 2 3 6 2 4]\n",
      " [6 7 9 8 9 3]]\n"
     ]
    }
   ],
   "source": [
    "#Joining and Stacking:\n",
    "import numpy as np\n",
    "a1 = np.array([[1,2,3],[6,7,9]])\n",
    "a2 = np.array([[6,2,4],[8,9,3]])\n",
    "a3 = np.hstack((a1,a2))   #Horizontal stacking\n",
    "print(a3)\n",
    "a4 = np.vstack((a1,a2))  #Vertical Stacking\n",
    "print(a4)\n",
    "a5= np.append(a1,a2,axis=0)\n",
    "print(a5)\n",
    "a6 = np.append(a1,a2,axis=1)\n",
    "print(a6)"
   ]
  },
  {
   "cell_type": "code",
   "execution_count": 155,
   "metadata": {},
   "outputs": [
    {
     "name": "stdout",
     "output_type": "stream",
     "text": [
      "[[ 60  12  13]\n",
      " [124   9  11]]\n",
      "[[-52  -2  -1]\n",
      " [ 56  -1  -1]]\n",
      "[[ 224   35   42]\n",
      " [3060   20   30]]\n",
      "[[0.07142857 0.71428571 0.85714286]\n",
      " [2.64705882 0.8        0.83333333]]\n",
      "[[     0  78125 279936]\n",
      " [     0   1024  15625]]\n",
      "[[ 9 10 11]\n",
      " [95  9 10]]\n",
      "[[53  4  4]\n",
      " [31  2  3]]\n",
      "[[ 200  250  300]\n",
      " [4500  200  250]]\n"
     ]
    }
   ],
   "source": [
    "#Arithimatic operations:\n",
    "import numpy as np\n",
    "a1 = np.array([[4,5,6],[90,4,5]])\n",
    "a2 = np.array([[56,7,7],[34,5,6]])\n",
    "print(a1+a2)\n",
    "print(a1-a2)\n",
    "print(a1*a2)\n",
    "print(a1/a2)\n",
    "print(a1 ** a2)\n",
    "#scalar arthimatic operations\n",
    "print(a1+5)\n",
    "print(a2-3)\n",
    "print(a1*50)"
   ]
  },
  {
   "cell_type": "code",
   "execution_count": 158,
   "metadata": {},
   "outputs": [
    {
     "name": "stdout",
     "output_type": "stream",
     "text": [
      "[[-0.54402111  0.91294525 -0.98803162]\n",
      " [-0.30481062  0.74511316  0.89399666]]\n",
      "[[-0.83907153  0.40808206  0.15425145]\n",
      " [-0.95241298 -0.66693806 -0.44807362]]\n",
      "[[ 0.64836083  2.23716094 -6.4053312 ]\n",
      " [ 0.32004039 -1.11721493 -1.99520041]]\n",
      "[[3.16227766 4.47213595 5.47722558]\n",
      " [7.74596669 6.32455532 9.48683298]]\n",
      "[[2.20264658e+04 4.85165195e+08 1.06864746e+13]\n",
      " [1.14200739e+26 2.35385267e+17 1.22040329e+39]]\n",
      "[[1.         1.30103    1.47712125]\n",
      " [1.77815125 1.60205999 1.95424251]]\n"
     ]
    }
   ],
   "source": [
    "#Mathematical functions:\n",
    "import numpy as np\n",
    "a1 = np.array([[10,20,30],[60,40,90]])\n",
    "print(np.sin(a1))\n",
    "print(np.cos(a1))\n",
    "print(np.tan(a1))\n",
    "print(np.sqrt(a1))\n",
    "print(np.exp(a1))\n",
    "print(np.log10(a1))"
   ]
  },
  {
   "cell_type": "code",
   "execution_count": 162,
   "metadata": {},
   "outputs": [
    {
     "name": "stdout",
     "output_type": "stream",
     "text": [
      "original array : [[1 2 3]\n",
      " [4 5 6]]\n",
      "Transpose array:  [[1 4]\n",
      " [2 5]\n",
      " [3 6]]\n"
     ]
    }
   ],
   "source": [
    "#Matrix Transpose using:\n",
    "import numpy as np\n",
    "a1 = np.array([[1,2,3],[4,5,6]])\n",
    "print(\"original array :\",a1)\n",
    "aT = a1.transpose()\n",
    "print(\"Transpose array: \",aT)"
   ]
  },
  {
   "cell_type": "code",
   "execution_count": null,
   "metadata": {},
   "outputs": [],
   "source": []
  }
 ],
 "metadata": {
  "kernelspec": {
   "display_name": "Python 3",
   "language": "python",
   "name": "python3"
  },
  "language_info": {
   "codemirror_mode": {
    "name": "ipython",
    "version": 3
   },
   "file_extension": ".py",
   "mimetype": "text/x-python",
   "name": "python",
   "nbconvert_exporter": "python",
   "pygments_lexer": "ipython3",
   "version": "3.7.3"
  }
 },
 "nbformat": 4,
 "nbformat_minor": 2
}
