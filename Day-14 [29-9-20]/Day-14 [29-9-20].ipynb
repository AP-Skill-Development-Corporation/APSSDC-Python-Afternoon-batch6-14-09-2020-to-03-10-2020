{
 "cells": [
  {
   "cell_type": "markdown",
   "metadata": {},
   "source": [
    "## Object Oriented Programming(OOP's)\n",
    "- Class\n",
    "- Object\n",
    "- Inheritance\n",
    "- Polymorphism\n",
    "- Data Abstraction\n",
    "- Encapsulation"
   ]
  },
  {
   "cell_type": "code",
   "execution_count": 1,
   "metadata": {},
   "outputs": [],
   "source": [
    "# class have properties(attributes) & Behaviour(methods--->Functions)"
   ]
  },
  {
   "cell_type": "markdown",
   "metadata": {},
   "source": [
    "#### Class Synatax\n",
    "class Classname:\n",
    "    #statment1\n",
    "    #statment2"
   ]
  },
  {
   "cell_type": "code",
   "execution_count": 2,
   "metadata": {},
   "outputs": [],
   "source": [
    "# class Example-1\n",
    "class Employee:\n",
    "    id = 10       # Attribute -1\n",
    "    name = \"Devid\"  # Attribute -2\n",
    "    def display(self):\n",
    "        print(self.id, self.name)"
   ]
  },
  {
   "cell_type": "code",
   "execution_count": 4,
   "metadata": {},
   "outputs": [
    {
     "name": "stdout",
     "output_type": "stream",
     "text": [
      "10\n"
     ]
    }
   ],
   "source": [
    "print(Employee.id)"
   ]
  },
  {
   "cell_type": "code",
   "execution_count": 5,
   "metadata": {},
   "outputs": [
    {
     "name": "stdout",
     "output_type": "stream",
     "text": [
      "Devid\n"
     ]
    }
   ],
   "source": [
    "print(Employee.name)"
   ]
  },
  {
   "cell_type": "code",
   "execution_count": 8,
   "metadata": {},
   "outputs": [],
   "source": [
    "# Create Object to Employee Class\n",
    "my_obj= Employee()"
   ]
  },
  {
   "cell_type": "code",
   "execution_count": 9,
   "metadata": {},
   "outputs": [
    {
     "name": "stdout",
     "output_type": "stream",
     "text": [
      "<__main__.Employee object at 0x000002019F4FA310>\n"
     ]
    }
   ],
   "source": [
    "print(my_obj)"
   ]
  },
  {
   "cell_type": "code",
   "execution_count": 10,
   "metadata": {},
   "outputs": [],
   "source": [
    "del my_obj"
   ]
  },
  {
   "cell_type": "code",
   "execution_count": 11,
   "metadata": {},
   "outputs": [
    {
     "ename": "NameError",
     "evalue": "name 'my_obj' is not defined",
     "output_type": "error",
     "traceback": [
      "\u001b[1;31m---------------------------------------------------------------------------\u001b[0m",
      "\u001b[1;31mNameError\u001b[0m                                 Traceback (most recent call last)",
      "\u001b[1;32m<ipython-input-11-9665ddcf580b>\u001b[0m in \u001b[0;36m<module>\u001b[1;34m\u001b[0m\n\u001b[1;32m----> 1\u001b[1;33m \u001b[0mmy_obj\u001b[0m\u001b[1;33m\u001b[0m\u001b[1;33m\u001b[0m\u001b[0m\n\u001b[0m",
      "\u001b[1;31mNameError\u001b[0m: name 'my_obj' is not defined"
     ]
    }
   ],
   "source": [
    "my_obj"
   ]
  },
  {
   "cell_type": "code",
   "execution_count": 12,
   "metadata": {},
   "outputs": [],
   "source": [
    "emp_obj1 = Employee()"
   ]
  },
  {
   "cell_type": "code",
   "execution_count": 13,
   "metadata": {},
   "outputs": [
    {
     "name": "stdout",
     "output_type": "stream",
     "text": [
      "10 Devid\n"
     ]
    }
   ],
   "source": [
    "emp_obj1.display()"
   ]
  },
  {
   "cell_type": "code",
   "execution_count": 19,
   "metadata": {},
   "outputs": [
    {
     "name": "stdout",
     "output_type": "stream",
     "text": [
      "This is ravi and I have 001 RollNumber.\n",
      "This is Kiran and I have 005 RollNumber.\n"
     ]
    }
   ],
   "source": [
    "# Example-2 \n",
    "class Student:\n",
    "    def show(self,roll,name):\n",
    "        print(\"This is {} and I have {} RollNumber.\".format(name,roll))\n",
    "    \n",
    "# create Object\n",
    "stu_obj = Student()\n",
    "\n",
    "# call method using object\n",
    "stu_obj.show('001','ravi')\n",
    "\n",
    "# Create 2nd obj\n",
    "stu2 = Student()\n",
    "stu2.show(\"005\",'Kiran')"
   ]
  },
  {
   "cell_type": "code",
   "execution_count": 21,
   "metadata": {},
   "outputs": [
    {
     "name": "stdout",
     "output_type": "stream",
     "text": [
      "ID: 101 \n",
      " Name: John\n"
     ]
    }
   ],
   "source": [
    "# Every Class have constructor  __init__()\n",
    "class Employee:\n",
    "    # Constructor\n",
    "    def __init__(self,name,id):\n",
    "        \n",
    "        self.id = id      #instance variable-1\n",
    "        self.name = name   #instance variable-2\n",
    "    # Method -1    \n",
    "    def display(self):\n",
    "        print(\"ID: %d \\n Name: %s\"%(self.id,self.name))\n",
    "        \n",
    "#create object-1\n",
    "emp1 = Employee(\"John\",101)\n",
    "emp2 = Employee(\"David\",102)\n",
    "\n",
    "# Accessing display() using objects\n",
    "emp1.display()"
   ]
  },
  {
   "cell_type": "code",
   "execution_count": 22,
   "metadata": {},
   "outputs": [
    {
     "name": "stdout",
     "output_type": "stream",
     "text": [
      "ID: 102 \n",
      " Name: David\n"
     ]
    }
   ],
   "source": [
    "emp2.display()"
   ]
  },
  {
   "cell_type": "code",
   "execution_count": 28,
   "metadata": {},
   "outputs": [],
   "source": [
    "# Print count of objects\n",
    "class Student:\n",
    "    count = 0 \n",
    "    def __init__(self):\n",
    "        Student.count = Student.count+1 \n",
    "        \n",
    "# Create Multiple Objects\n",
    "s1 = Student()\n",
    "s2 = Student()\n",
    "s2 = Student()\n",
    "s4 = Student()"
   ]
  },
  {
   "cell_type": "code",
   "execution_count": 29,
   "metadata": {},
   "outputs": [
    {
     "name": "stdout",
     "output_type": "stream",
     "text": [
      "The Number of Students Count=  4\n"
     ]
    }
   ],
   "source": [
    "print(\"The Number of Students Count= \",Student.count)\n"
   ]
  },
  {
   "cell_type": "code",
   "execution_count": null,
   "metadata": {},
   "outputs": [],
   "source": [
    "# Constructors can be of 2 types\n",
    "# 1) Paramerized Constructor  # ex-> ___init__(self,name,...)\n",
    "# 2) Non-Paramerized Constructor # ex-> ___init__(self)"
   ]
  },
  {
   "cell_type": "code",
   "execution_count": 30,
   "metadata": {},
   "outputs": [
    {
     "name": "stdout",
     "output_type": "stream",
     "text": [
      "This is Second Constructor\n"
     ]
    }
   ],
   "source": [
    "# More than one constructor in single class\n",
    "class ConEx:\n",
    "    def __init__(self):\n",
    "        print(\"This is First Constructor\")\n",
    "    def __init__(self):\n",
    "        print(\"This is Second Constructor\")\n",
    "\n",
    "st = ConEx()"
   ]
  },
  {
   "cell_type": "code",
   "execution_count": 32,
   "metadata": {},
   "outputs": [],
   "source": [
    "# Built-in Class Functions\n",
    "# getattr(obj,name,default)"
   ]
  },
  {
   "cell_type": "code",
   "execution_count": 33,
   "metadata": {},
   "outputs": [
    {
     "name": "stdout",
     "output_type": "stream",
     "text": [
      "surya\n"
     ]
    }
   ],
   "source": [
    "class Student:\n",
    "    def __init__(self,name,id,age):\n",
    "        self.name= name\n",
    "        self.id = id\n",
    "        self.age =age\n",
    "        \n",
    "# create obj\n",
    "s = Student('surya',101,26)\n",
    "\n",
    "# Get attributes of s obj\n",
    "print(getattr(s,'name'))"
   ]
  },
  {
   "cell_type": "code",
   "execution_count": 34,
   "metadata": {},
   "outputs": [],
   "source": [
    "# Reset Attribute Values using obj\n",
    "setattr(s,'age',23)"
   ]
  },
  {
   "cell_type": "code",
   "execution_count": 35,
   "metadata": {},
   "outputs": [
    {
     "name": "stdout",
     "output_type": "stream",
     "text": [
      "23\n"
     ]
    }
   ],
   "source": [
    "print(getattr(s,'age'))"
   ]
  },
  {
   "cell_type": "code",
   "execution_count": 36,
   "metadata": {},
   "outputs": [
    {
     "name": "stdout",
     "output_type": "stream",
     "text": [
      "True\n"
     ]
    }
   ],
   "source": [
    "print(hasattr(s,'age'))"
   ]
  },
  {
   "cell_type": "code",
   "execution_count": 37,
   "metadata": {},
   "outputs": [
    {
     "name": "stdout",
     "output_type": "stream",
     "text": [
      "True\n"
     ]
    }
   ],
   "source": [
    "print(hasattr(s,'name'))"
   ]
  },
  {
   "cell_type": "code",
   "execution_count": 38,
   "metadata": {},
   "outputs": [],
   "source": [
    "# delete Attribute\n",
    "delattr(s,'id')"
   ]
  },
  {
   "cell_type": "code",
   "execution_count": 39,
   "metadata": {},
   "outputs": [
    {
     "ename": "AttributeError",
     "evalue": "'Student' object has no attribute 'id'",
     "output_type": "error",
     "traceback": [
      "\u001b[1;31m---------------------------------------------------------------------------\u001b[0m",
      "\u001b[1;31mAttributeError\u001b[0m                            Traceback (most recent call last)",
      "\u001b[1;32m<ipython-input-39-51448ff2e0fe>\u001b[0m in \u001b[0;36m<module>\u001b[1;34m\u001b[0m\n\u001b[1;32m----> 1\u001b[1;33m \u001b[0mgetattr\u001b[0m\u001b[1;33m(\u001b[0m\u001b[0ms\u001b[0m\u001b[1;33m,\u001b[0m\u001b[1;34m'id'\u001b[0m\u001b[1;33m)\u001b[0m\u001b[1;33m\u001b[0m\u001b[1;33m\u001b[0m\u001b[0m\n\u001b[0m",
      "\u001b[1;31mAttributeError\u001b[0m: 'Student' object has no attribute 'id'"
     ]
    }
   ],
   "source": [
    "getattr(s,'id')"
   ]
  },
  {
   "cell_type": "code",
   "execution_count": 40,
   "metadata": {},
   "outputs": [
    {
     "data": {
      "text/plain": [
       "'surya'"
      ]
     },
     "execution_count": 40,
     "metadata": {},
     "output_type": "execute_result"
    }
   ],
   "source": [
    "getattr(s,'name')"
   ]
  },
  {
   "cell_type": "code",
   "execution_count": null,
   "metadata": {},
   "outputs": [],
   "source": [
    "# getattr(obj,'attribute name')  # --> returns attribute value\n",
    "# setattr(obj,'attribute name','attrib value')\n",
    "# hasaatr(obj,'attribute name')\n",
    "# delattr(obj, 'attribute name')"
   ]
  },
  {
   "cell_type": "markdown",
   "metadata": {},
   "source": [
    "### Inheritance\n",
    "- single Inheritance\n",
    "- multilevel Inheritance\n",
    "- Hierarchical Inheritance\n",
    "- Multiple Inheritance"
   ]
  },
  {
   "cell_type": "code",
   "execution_count": null,
   "metadata": {},
   "outputs": [],
   "source": [
    "'''\n",
    "# Single Inheritance\n",
    "class Parent:\n",
    "    properties\n",
    "    \n",
    "class Chield(Parent):\n",
    "    properties\n",
    "'''"
   ]
  },
  {
   "cell_type": "code",
   "execution_count": 41,
   "metadata": {},
   "outputs": [
    {
     "name": "stdout",
     "output_type": "stream",
     "text": [
      "Dog barking\n",
      "Animal Speaking\n"
     ]
    }
   ],
   "source": [
    "# Ex for single Ineritance\n",
    "class Animal:\n",
    "    def speak(self):\n",
    "        print(\"Animal Speaking\")\n",
    "\n",
    "class Dog(Animal):\n",
    "    def bark(self):\n",
    "        print(\"Dog barking\")\n",
    "        \n",
    "d = Dog()\n",
    "d.bark()\n",
    "d.speak()\n",
    "    "
   ]
  },
  {
   "cell_type": "code",
   "execution_count": 42,
   "metadata": {},
   "outputs": [
    {
     "name": "stdout",
     "output_type": "stream",
     "text": [
      "Animal Speaking\n",
      "Dog barking\n",
      "Eating Bread...\n"
     ]
    }
   ],
   "source": [
    "# Multi-Level Inheritance Example\n",
    "class Animal:\n",
    "    def speak(self):\n",
    "        print(\"Animal Speaking\")\n",
    "\n",
    "class Dog(Animal):\n",
    "    def bark(self):\n",
    "        print(\"Dog barking\")\n",
    "        \n",
    "class DogChild(Dog):\n",
    "    def eat(self):\n",
    "        print(\"Eating Bread...\")\n",
    "\n",
    "dc = DogChild()\n",
    "dc.speak()\n",
    "dc.bark()\n",
    "dc.eat()"
   ]
  },
  {
   "cell_type": "code",
   "execution_count": null,
   "metadata": {},
   "outputs": [],
   "source": [
    "# Multiple Inheritance Example\n",
    "'''\n",
    "Syntax:-\n",
    "\n",
    "class Base1:\n",
    "    Base1 Attr\n",
    "    \n",
    "class Base2:\n",
    "    Base2 Attr\n",
    "  .\n",
    "  .\n",
    "  .\n",
    "class BaseN:\n",
    "    BaseN Attr\n",
    "    \n",
    "class Derived(Base1,Base2,...,BaseN):\n",
    "    Derived Attr\n",
    "'''"
   ]
  },
  {
   "cell_type": "code",
   "execution_count": 50,
   "metadata": {},
   "outputs": [
    {
     "name": "stdout",
     "output_type": "stream",
     "text": [
      "30\n",
      "759\n",
      "6\n",
      "5.0\n"
     ]
    }
   ],
   "source": [
    "# Ex\n",
    "class Cal1:\n",
    "    def sum(self,a,b):\n",
    "        return a+b\n",
    "\n",
    "class Cal2:\n",
    "    def mul(self,a,b):\n",
    "        return a*b\n",
    "\n",
    "class Cal3:\n",
    "    def sub(self,a,b):\n",
    "        return a-b\n",
    "    \n",
    "class Derived(Cal1,Cal2,Cal3):\n",
    "    def div(self,a,b):\n",
    "        return a/b\n",
    "    \n",
    "d = Derived()\n",
    "print(d.sum(10,20))\n",
    "print(d.mul(23,33))\n",
    "print(d.sub(8,2))\n",
    "print(d.div(5,1))"
   ]
  },
  {
   "cell_type": "code",
   "execution_count": 53,
   "metadata": {},
   "outputs": [
    {
     "name": "stdout",
     "output_type": "stream",
     "text": [
      "True\n",
      "False\n"
     ]
    }
   ],
   "source": [
    "# Methods to check Relationship b/e 2 classes\n",
    "# issubclass(class1,class2)\n",
    "# Ex\n",
    "print(issubclass(Derived,Cal1))\n",
    "print(issubclass(Cal1,Derived))"
   ]
  },
  {
   "cell_type": "code",
   "execution_count": 56,
   "metadata": {},
   "outputs": [
    {
     "name": "stdout",
     "output_type": "stream",
     "text": [
      "True\n",
      "True\n",
      "False\n"
     ]
    }
   ],
   "source": [
    "# isinstance(obj,class) # -> check object is related to class or not\n",
    "print(isinstance(d,Derived))\n",
    "print(isinstance(d,Cal1))\n",
    "print(isinstance(d,DogChild))"
   ]
  },
  {
   "cell_type": "code",
   "execution_count": null,
   "metadata": {},
   "outputs": [],
   "source": []
  }
 ],
 "metadata": {
  "kernelspec": {
   "display_name": "Python 3",
   "language": "python",
   "name": "python3"
  },
  "language_info": {
   "codemirror_mode": {
    "name": "ipython",
    "version": 3
   },
   "file_extension": ".py",
   "mimetype": "text/x-python",
   "name": "python",
   "nbconvert_exporter": "python",
   "pygments_lexer": "ipython3",
   "version": "3.8.3"
  }
 },
 "nbformat": 4,
 "nbformat_minor": 4
}
