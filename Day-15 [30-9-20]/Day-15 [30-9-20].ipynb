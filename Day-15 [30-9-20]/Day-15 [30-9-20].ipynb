{
 "cells": [
  {
   "cell_type": "markdown",
   "metadata": {},
   "source": [
    "## Data Abstraction"
   ]
  },
  {
   "cell_type": "code",
   "execution_count": 1,
   "metadata": {},
   "outputs": [],
   "source": [
    "# add \"__\" as prefix to Attributes"
   ]
  },
  {
   "cell_type": "code",
   "execution_count": 2,
   "metadata": {},
   "outputs": [],
   "source": [
    "# Example for Data Abstraction\n",
    "class Employee:\n",
    "    __count = 0;\n",
    "    def __init__(self):\n",
    "        Employee.__count = Employee.__count+1\n",
    "    def display(self):\n",
    "        print(\"The No. of Emplyoyees Count = :\",Employee.__count)\n",
    "        \n",
    "emp = Employee()\n",
    "emp2 = Employee()"
   ]
  },
  {
   "cell_type": "code",
   "execution_count": 3,
   "metadata": {},
   "outputs": [
    {
     "name": "stdout",
     "output_type": "stream",
     "text": [
      "<__main__.Employee object at 0x000001E2401F5E80> <__main__.Employee object at 0x000001E2401F53A0>\n"
     ]
    }
   ],
   "source": [
    "print(emp,emp2)"
   ]
  },
  {
   "cell_type": "code",
   "execution_count": 5,
   "metadata": {},
   "outputs": [
    {
     "ename": "AttributeError",
     "evalue": "'Employee' object has no attribute '__count'",
     "output_type": "error",
     "traceback": [
      "\u001b[1;31m---------------------------------------------------------------------------\u001b[0m",
      "\u001b[1;31mAttributeError\u001b[0m                            Traceback (most recent call last)",
      "\u001b[1;32m<ipython-input-5-f292439264e9>\u001b[0m in \u001b[0;36m<module>\u001b[1;34m\u001b[0m\n\u001b[1;32m----> 1\u001b[1;33m \u001b[0memp\u001b[0m\u001b[1;33m.\u001b[0m\u001b[0m__count\u001b[0m\u001b[1;33m\u001b[0m\u001b[1;33m\u001b[0m\u001b[0m\n\u001b[0m",
      "\u001b[1;31mAttributeError\u001b[0m: 'Employee' object has no attribute '__count'"
     ]
    }
   ],
   "source": [
    "emp.__count"
   ]
  },
  {
   "cell_type": "code",
   "execution_count": 8,
   "metadata": {
    "scrolled": true
   },
   "outputs": [
    {
     "name": "stdout",
     "output_type": "stream",
     "text": [
      "Selling Price: 900\n",
      "Selling Price: 900\n",
      "Selling Price: 1000\n"
     ]
    }
   ],
   "source": [
    "# Example -2\n",
    "class Computer:\n",
    "    def __init__(self):\n",
    "        self.__maxprice = 900\n",
    "    def sell(self):\n",
    "        print(\"Selling Price: {}\".format(self.__maxprice))\n",
    "    def setMaxPrice(self, price):\n",
    "        self.__maxprice = price\n",
    "        \n",
    "# create Obj\n",
    "c = Computer()\n",
    "c.sell()\n",
    "\n",
    "# Change Price Value using Obj\n",
    "c.__maxprice = 1000\n",
    "c.sell()\n",
    "\n",
    "# Change maxprice value through method\n",
    "c.setMaxPrice(1000)\n",
    "c.sell()"
   ]
  },
  {
   "cell_type": "code",
   "execution_count": null,
   "metadata": {},
   "outputs": [],
   "source": [
    "# Built-in Class Attributes \n",
    "'''\n",
    "__dict__\n",
    "__doc__\n",
    "__name__\n",
    "__module__\n",
    "__bases__\n",
    "'''"
   ]
  },
  {
   "cell_type": "code",
   "execution_count": 11,
   "metadata": {},
   "outputs": [],
   "source": [
    "# Exmaples for Built-in Class Attributes\n",
    "class Student:\n",
    "    \"\"\"This is a Students class to maintain Students Infomation\"\"\"\n",
    "    def __init__(self, name, id,age):\n",
    "        self.name = name;\n",
    "        self.id = id\n",
    "        self.age = age\n",
    "    def display_details(self):\n",
    "        print(\"Name: %s, ID: %d, Age: %d\"%self.name,self.id,self.age)\n",
    "        \n",
    "# Create Obj\n",
    "s =Student(\"ravi\",101,22)"
   ]
  },
  {
   "cell_type": "code",
   "execution_count": 13,
   "metadata": {
    "collapsed": true
   },
   "outputs": [
    {
     "name": "stdout",
     "output_type": "stream",
     "text": [
      "This is a Students class to maintain Students Infomation\n",
      "{'name': 'ravi', 'id': 101, 'age': 22}\n",
      "__main__\n"
     ]
    },
    {
     "ename": "AttributeError",
     "evalue": "'Student' object has no attribute '__bases__'",
     "output_type": "error",
     "traceback": [
      "\u001b[1;31m---------------------------------------------------------------------------\u001b[0m",
      "\u001b[1;31mAttributeError\u001b[0m                            Traceback (most recent call last)",
      "\u001b[1;32m<ipython-input-13-1f2852a4996b>\u001b[0m in \u001b[0;36m<module>\u001b[1;34m\u001b[0m\n\u001b[0;32m      3\u001b[0m \u001b[0mprint\u001b[0m\u001b[1;33m(\u001b[0m\u001b[0ms\u001b[0m\u001b[1;33m.\u001b[0m\u001b[0m__module__\u001b[0m\u001b[1;33m)\u001b[0m\u001b[1;33m\u001b[0m\u001b[1;33m\u001b[0m\u001b[0m\n\u001b[0;32m      4\u001b[0m \u001b[1;31m#print(s.__name__)\u001b[0m\u001b[1;33m\u001b[0m\u001b[1;33m\u001b[0m\u001b[1;33m\u001b[0m\u001b[0m\n\u001b[1;32m----> 5\u001b[1;33m \u001b[0mprint\u001b[0m\u001b[1;33m(\u001b[0m\u001b[0ms\u001b[0m\u001b[1;33m.\u001b[0m\u001b[0m__bases__\u001b[0m\u001b[1;33m)\u001b[0m\u001b[1;33m\u001b[0m\u001b[1;33m\u001b[0m\u001b[0m\n\u001b[0m",
      "\u001b[1;31mAttributeError\u001b[0m: 'Student' object has no attribute '__bases__'"
     ]
    }
   ],
   "source": [
    "print(s.__doc__)\n",
    "print(s.__dict__)\n",
    "print(s.__module__)\n",
    "#print(s.__name__)\n",
    "print(s.__bases__)"
   ]
  },
  {
   "cell_type": "markdown",
   "metadata": {},
   "source": [
    "## Polymorphism\n",
    "- Polymorphism contains two words \"Poly\" and \"Morphs\"\n",
    "- one task can performed in different ways"
   ]
  },
  {
   "cell_type": "code",
   "execution_count": 14,
   "metadata": {},
   "outputs": [
    {
     "name": "stdout",
     "output_type": "stream",
     "text": [
      "Parrot can Fly\n",
      "Penguin can't fly\n"
     ]
    }
   ],
   "source": [
    "# Example \n",
    "class Parrot:\n",
    "    def fly(self):\n",
    "        print(\"Parrot can Fly\")\n",
    "    def swim(self):\n",
    "        print(\"Parrot can't swim\")\n",
    "\n",
    "class Penguin:\n",
    "    def fly(self):\n",
    "        print(\"Penguin can't fly\")\n",
    "    def swim(self):\n",
    "        print(\"Penguin can swim\")\n",
    "        \n",
    "# CReate Common Interface\n",
    "def flying_test(bird):\n",
    "    bird.fly()\n",
    "    \n",
    "# Create Objects\n",
    "blu = Parrot()\n",
    "pen = Penguin()\n",
    "\n",
    "flying_test(blu)\n",
    "flying_test(pen)"
   ]
  },
  {
   "cell_type": "code",
   "execution_count": 15,
   "metadata": {},
   "outputs": [],
   "source": [
    "# Random Module\n",
    "import random"
   ]
  },
  {
   "cell_type": "code",
   "execution_count": 20,
   "metadata": {},
   "outputs": [
    {
     "name": "stdout",
     "output_type": "stream",
     "text": [
      "5\n"
     ]
    }
   ],
   "source": [
    "# Generate random integer\n",
    "print(random.randint(1,10))"
   ]
  },
  {
   "cell_type": "code",
   "execution_count": 22,
   "metadata": {},
   "outputs": [
    {
     "name": "stdout",
     "output_type": "stream",
     "text": [
      "0.6839523509105524\n"
     ]
    }
   ],
   "source": [
    "# Generate Random folat value\n",
    "print(random.random())"
   ]
  },
  {
   "cell_type": "code",
   "execution_count": 25,
   "metadata": {},
   "outputs": [
    {
     "data": {
      "text/plain": [
       "'kiran'"
      ]
     },
     "execution_count": 25,
     "metadata": {},
     "output_type": "execute_result"
    }
   ],
   "source": [
    "# Choose/Select random element\n",
    "list_ex = ['ramu','somu','kiran','ravi','sitha']\n",
    "random.choice(list_ex)"
   ]
  },
  {
   "cell_type": "code",
   "execution_count": 28,
   "metadata": {
    "collapsed": true
   },
   "outputs": [
    {
     "name": "stdout",
     "output_type": "stream",
     "text": [
      "U required guessing rangeyes\n",
      "Enter Inital Num= 20\n",
      "Enter Max Num= 10\n"
     ]
    },
    {
     "ename": "ValueError",
     "evalue": "empty range for randrange() (20, 11, -9)",
     "output_type": "error",
     "traceback": [
      "\u001b[1;31m---------------------------------------------------------------------------\u001b[0m",
      "\u001b[1;31mValueError\u001b[0m                                Traceback (most recent call last)",
      "\u001b[1;32m<ipython-input-28-8586bafaf977>\u001b[0m in \u001b[0;36m<module>\u001b[1;34m\u001b[0m\n\u001b[0;32m      7\u001b[0m \u001b[1;32melse\u001b[0m\u001b[1;33m:\u001b[0m\u001b[1;33m\u001b[0m\u001b[1;33m\u001b[0m\u001b[0m\n\u001b[0;32m      8\u001b[0m     \u001b[0mprint\u001b[0m\u001b[1;33m(\u001b[0m\u001b[1;34m\"Guessing Num from 50 to 100\"\u001b[0m\u001b[1;33m)\u001b[0m\u001b[1;33m\u001b[0m\u001b[1;33m\u001b[0m\u001b[0m\n\u001b[1;32m----> 9\u001b[1;33m \u001b[0mguessing_num\u001b[0m \u001b[1;33m=\u001b[0m \u001b[0mrandom\u001b[0m\u001b[1;33m.\u001b[0m\u001b[0mrandint\u001b[0m\u001b[1;33m(\u001b[0m\u001b[0mmin_num\u001b[0m\u001b[1;33m,\u001b[0m\u001b[0mmax_num\u001b[0m\u001b[1;33m)\u001b[0m\u001b[1;33m\u001b[0m\u001b[1;33m\u001b[0m\u001b[0m\n\u001b[0m\u001b[0;32m     10\u001b[0m \u001b[0mn\u001b[0m \u001b[1;33m=\u001b[0m \u001b[0mint\u001b[0m\u001b[1;33m(\u001b[0m\u001b[0minput\u001b[0m\u001b[1;33m(\u001b[0m\u001b[1;34m\"Enter Your Guessing number= \"\u001b[0m\u001b[1;33m)\u001b[0m\u001b[1;33m)\u001b[0m\u001b[1;33m\u001b[0m\u001b[1;33m\u001b[0m\u001b[0m\n\u001b[0;32m     11\u001b[0m \u001b[1;33m\u001b[0m\u001b[0m\n",
      "\u001b[1;32mC:\\ProgramData\\Anaconda3\\lib\\random.py\u001b[0m in \u001b[0;36mrandint\u001b[1;34m(self, a, b)\u001b[0m\n\u001b[0;32m    246\u001b[0m         \"\"\"\n\u001b[0;32m    247\u001b[0m \u001b[1;33m\u001b[0m\u001b[0m\n\u001b[1;32m--> 248\u001b[1;33m         \u001b[1;32mreturn\u001b[0m \u001b[0mself\u001b[0m\u001b[1;33m.\u001b[0m\u001b[0mrandrange\u001b[0m\u001b[1;33m(\u001b[0m\u001b[0ma\u001b[0m\u001b[1;33m,\u001b[0m \u001b[0mb\u001b[0m\u001b[1;33m+\u001b[0m\u001b[1;36m1\u001b[0m\u001b[1;33m)\u001b[0m\u001b[1;33m\u001b[0m\u001b[1;33m\u001b[0m\u001b[0m\n\u001b[0m\u001b[0;32m    249\u001b[0m \u001b[1;33m\u001b[0m\u001b[0m\n\u001b[0;32m    250\u001b[0m     \u001b[1;32mdef\u001b[0m \u001b[0m_randbelow_with_getrandbits\u001b[0m\u001b[1;33m(\u001b[0m\u001b[0mself\u001b[0m\u001b[1;33m,\u001b[0m \u001b[0mn\u001b[0m\u001b[1;33m)\u001b[0m\u001b[1;33m:\u001b[0m\u001b[1;33m\u001b[0m\u001b[1;33m\u001b[0m\u001b[0m\n",
      "\u001b[1;32mC:\\ProgramData\\Anaconda3\\lib\\random.py\u001b[0m in \u001b[0;36mrandrange\u001b[1;34m(self, start, stop, step, _int)\u001b[0m\n\u001b[0;32m    224\u001b[0m             \u001b[1;32mreturn\u001b[0m \u001b[0mistart\u001b[0m \u001b[1;33m+\u001b[0m \u001b[0mself\u001b[0m\u001b[1;33m.\u001b[0m\u001b[0m_randbelow\u001b[0m\u001b[1;33m(\u001b[0m\u001b[0mwidth\u001b[0m\u001b[1;33m)\u001b[0m\u001b[1;33m\u001b[0m\u001b[1;33m\u001b[0m\u001b[0m\n\u001b[0;32m    225\u001b[0m         \u001b[1;32mif\u001b[0m \u001b[0mstep\u001b[0m \u001b[1;33m==\u001b[0m \u001b[1;36m1\u001b[0m\u001b[1;33m:\u001b[0m\u001b[1;33m\u001b[0m\u001b[1;33m\u001b[0m\u001b[0m\n\u001b[1;32m--> 226\u001b[1;33m             \u001b[1;32mraise\u001b[0m \u001b[0mValueError\u001b[0m\u001b[1;33m(\u001b[0m\u001b[1;34m\"empty range for randrange() (%d, %d, %d)\"\u001b[0m \u001b[1;33m%\u001b[0m \u001b[1;33m(\u001b[0m\u001b[0mistart\u001b[0m\u001b[1;33m,\u001b[0m \u001b[0mistop\u001b[0m\u001b[1;33m,\u001b[0m \u001b[0mwidth\u001b[0m\u001b[1;33m)\u001b[0m\u001b[1;33m)\u001b[0m\u001b[1;33m\u001b[0m\u001b[1;33m\u001b[0m\u001b[0m\n\u001b[0m\u001b[0;32m    227\u001b[0m \u001b[1;33m\u001b[0m\u001b[0m\n\u001b[0;32m    228\u001b[0m         \u001b[1;31m# Non-unit step argument supplied.\u001b[0m\u001b[1;33m\u001b[0m\u001b[1;33m\u001b[0m\u001b[1;33m\u001b[0m\u001b[0m\n",
      "\u001b[1;31mValueError\u001b[0m: empty range for randrange() (20, 11, -9)"
     ]
    }
   ],
   "source": [
    "# Guessing Game\n",
    "min_num=50\n",
    "max_num=100\n",
    "u_range =  input(\"U required guessing range\")\n",
    "if u_range.lower()==\"yes\":\n",
    "    min_num, max_num = int(input(\"Enter Inital Num= \")),int(input(\"Enter Max Num= \"))\n",
    "else:\n",
    "    print(\"Guessing Num from 50 to 100\")\n",
    "guessing_num = random.randint(min_num,max_num)\n",
    "n = int(input(\"Enter Your Guessing number= \"))\n",
    "\n",
    "if guessing_num == n:\n",
    "    print(\"You Win\")\n",
    "else:\n",
    "    print(\"You Faild\")"
   ]
  },
  {
   "cell_type": "code",
   "execution_count": 29,
   "metadata": {},
   "outputs": [],
   "source": [
    "# os Module\n",
    "import os"
   ]
  },
  {
   "cell_type": "code",
   "execution_count": 30,
   "metadata": {},
   "outputs": [
    {
     "name": "stdout",
     "output_type": "stream",
     "text": [
      "C:\\Users\\HP\\Desktop\\Python Batch-6\n"
     ]
    }
   ],
   "source": [
    "# print current working Directory/folder\n",
    "print(os.getcwd())"
   ]
  },
  {
   "cell_type": "code",
   "execution_count": 31,
   "metadata": {},
   "outputs": [
    {
     "name": "stdout",
     "output_type": "stream",
     "text": [
      "['.ipynb_checkpoints', 'apssdc.txt', 'college.txt', 'Day-10 [24-9-20]', 'Day-13 [28-9-20]', 'Day-14 [29-9-20]', 'Day-15 [30-9-20].ipynb', 'Day-3 [16-9-20]', 'Day-4 [17-9-20]', 'Day-9 [23-9-20]', 'laptop.txt', 'movie.c', 'movie.mp3', 'movie.mp4', 'python.txt']\n"
     ]
    }
   ],
   "source": [
    "# print cwd files/folders list\n",
    "print(os.listdir())"
   ]
  },
  {
   "cell_type": "code",
   "execution_count": 32,
   "metadata": {},
   "outputs": [
    {
     "name": "stdout",
     "output_type": "stream",
     "text": [
      "['$Recycle.Bin', '$WinREAgent', 'Documents and Settings', 'DumpStack.log.tmp', 'hiberfil.sys', 'HPSDM', 'inetpub', 'Intel', 'pagefile.sys', 'PerfLogs', 'Program Files', 'Program Files (x86)', 'ProgramData', 'Recovery', 'SoftPaqDownloadDirectory', 'swapfile.sys', 'SWSetup', 'System Volume Information', 'system.sav', 'temp', 'Users', 'Windows']\n"
     ]
    }
   ],
   "source": [
    "print(os.listdir(\"c:\\\\\"))"
   ]
  },
  {
   "cell_type": "code",
   "execution_count": 34,
   "metadata": {},
   "outputs": [],
   "source": [
    "# change CWD \n",
    "os.chdir(\"C:\\\\Users\\\\HP\\\\Desktop\\\\\")"
   ]
  },
  {
   "cell_type": "code",
   "execution_count": 35,
   "metadata": {},
   "outputs": [
    {
     "name": "stdout",
     "output_type": "stream",
     "text": [
      "C:\\Users\\HP\\Desktop\n"
     ]
    }
   ],
   "source": [
    "print(os.getcwd())"
   ]
  },
  {
   "cell_type": "code",
   "execution_count": 36,
   "metadata": {},
   "outputs": [
    {
     "name": "stdout",
     "output_type": "stream",
     "text": [
      "['.ipynb_checkpoints', 'Current Bills Payments.txt', 'desktop.ini', 'gen1.py', 'GoToMeeting.lnk', 'Internet Download Manager.lnk', 'Opera Browser.lnk', 'practice on classes.ipynb', 'Python Batch-6', 'Python Batch-6 [14-9-20 to 3-10-20] - Shortcut.lnk', 'Quations.txt', 'Roll NUMBERS NOT MATCH.txt', 'Slack.lnk', 'Types-of-Inheritance.jpg', 'Untitled.ipynb', 'µTorrent.lnk']\n"
     ]
    }
   ],
   "source": [
    "print(os.listdir())"
   ]
  },
  {
   "cell_type": "code",
   "execution_count": 37,
   "metadata": {},
   "outputs": [],
   "source": [
    "# Craete folder/derectory\n",
    "os.mkdir(\"students class\")"
   ]
  },
  {
   "cell_type": "code",
   "execution_count": 39,
   "metadata": {},
   "outputs": [],
   "source": [
    "# rename folders/files\n",
    "os.rename(\"students class\",\"python class\")"
   ]
  },
  {
   "cell_type": "code",
   "execution_count": 40,
   "metadata": {},
   "outputs": [],
   "source": [
    "#Remove folder\n",
    "os.rmdir(\"python class\")"
   ]
  },
  {
   "cell_type": "code",
   "execution_count": 41,
   "metadata": {},
   "outputs": [],
   "source": [
    "# Remove file\n",
    "os.remove(\"check.txt\")"
   ]
  },
  {
   "cell_type": "code",
   "execution_count": 42,
   "metadata": {},
   "outputs": [
    {
     "data": {
      "text/plain": [
       "True"
      ]
     },
     "execution_count": 42,
     "metadata": {},
     "output_type": "execute_result"
    }
   ],
   "source": [
    "'.' in \"readme.txt\""
   ]
  },
  {
   "cell_type": "code",
   "execution_count": 43,
   "metadata": {},
   "outputs": [
    {
     "data": {
      "text/plain": [
       "True"
      ]
     },
     "execution_count": 43,
     "metadata": {},
     "output_type": "execute_result"
    }
   ],
   "source": [
    "\".txt\" in \"readme.txt\""
   ]
  },
  {
   "cell_type": "code",
   "execution_count": 45,
   "metadata": {},
   "outputs": [
    {
     "name": "stdout",
     "output_type": "stream",
     "text": [
      "False\n",
      "True\n"
     ]
    }
   ],
   "source": [
    "# Check File/Folder by using Address \n",
    "# os.path.isfile()\n",
    "print(os.path.isfile(\"C:\\\\Users\\\\HP\\\\Desktop\\\\readme.txt\"))\n",
    "print(os.path.isfile(\"C:\\\\Users\\\\HP\\\\Desktop\\\\Quations.txt\"))"
   ]
  },
  {
   "cell_type": "code",
   "execution_count": 47,
   "metadata": {},
   "outputs": [
    {
     "name": "stdout",
     "output_type": "stream",
     "text": [
      "True\n",
      "False\n"
     ]
    }
   ],
   "source": [
    "# Check File/Folder by using Address  \n",
    "# os.path.isfolder()\n",
    "print(os.path.isdir(\"C:\\\\Users\\\\HP\\\\Desktop\\\\readme.txt\"))\n",
    "print(os.path.isdir(\"C:\\\\Users\\\\HP\\\\Desktop\\\\Quations.txt\"))"
   ]
  },
  {
   "cell_type": "code",
   "execution_count": 48,
   "metadata": {},
   "outputs": [
    {
     "name": "stdout",
     "output_type": "stream",
     "text": [
      "Enter Location: C:\\Users\\HP\\Desktop\\Python Batch-6\n",
      "C:\\Users\\HP\\Desktop\\Python Batch-6\n",
      "['.ipynb_checkpoints', 'Day-10 [24-9-20]', 'Day-13 [28-9-20]', 'Day-14 [29-9-20]', 'Day-3 [16-9-20]', 'Day-4 [17-9-20]', 'Day-9 [23-9-20]']\n",
      "['apssdc.txt', 'college.txt', 'Day-15 [30-9-20].ipynb', 'laptop.txt', 'movie.c', 'movie.mp3', 'movie.mp4', 'python.txt']\n",
      "C:\\Users\\HP\\Desktop\\Python Batch-6\\.ipynb_checkpoints\n",
      "[]\n",
      "['Day-10 [24-9-20]-checkpoint.ipynb', 'Day-13 [28-9-20]-checkpoint.ipynb', 'Day-14 [29-9-20]-checkpoint.ipynb', 'Day-15 [30-9-20]-checkpoint.ipynb', 'Day-3 [16-9-20]-checkpoint.ipynb', 'Day-4 [17-9-20]-checkpoint.ipynb', 'Day-9 [23-9-20]-checkpoint.ipynb']\n",
      "C:\\Users\\HP\\Desktop\\Python Batch-6\\Day-10 [24-9-20]\n",
      "[]\n",
      "['Day-10 [24-9-20] - Jupyter Notebook.pdf', 'Day-10 [24-9-20].ipynb']\n",
      "C:\\Users\\HP\\Desktop\\Python Batch-6\\Day-13 [28-9-20]\n",
      "[]\n",
      "['Day-13 [28-9-20] - Jupyter Notebook.pdf', 'Day-13 [28-9-20].ipynb']\n",
      "C:\\Users\\HP\\Desktop\\Python Batch-6\\Day-14 [29-9-20]\n",
      "[]\n",
      "['Day-14 [29-9-20] - Jupyter Notebook.pdf', 'Day-14 [29-9-20].ipynb']\n",
      "C:\\Users\\HP\\Desktop\\Python Batch-6\\Day-3 [16-9-20]\n",
      "[]\n",
      "['Day-3 [16-9-20] - Jupyter Notebook.pdf', 'Day-3 [16-9-20].ipynb']\n",
      "C:\\Users\\HP\\Desktop\\Python Batch-6\\Day-4 [17-9-20]\n",
      "[]\n",
      "['Day-4 [17-9-20] - Jupyter Notebook.pdf', 'Day-4 [17-9-20].ipynb']\n",
      "C:\\Users\\HP\\Desktop\\Python Batch-6\\Day-9 [23-9-20]\n",
      "[]\n",
      "['Day-9 [23-9-20] - Jupyter Notebook.pdf', 'Day-9 [23-9-20].ipynb']\n"
     ]
    }
   ],
   "source": [
    "# Print folders and files in All childs paths\n",
    "# os.walk(address)\n",
    "for path,folders,files in os.walk(input(\"Enter Location: \")):\n",
    "    print(path)\n",
    "    print(folders)\n",
    "    print(files)"
   ]
  },
  {
   "cell_type": "code",
   "execution_count": null,
   "metadata": {},
   "outputs": [],
   "source": [
    "# Hirarchical Inheritance \n",
    "# Syntax\n",
    "'''\n",
    "class Parent:\n",
    "    parent attr\n",
    "\n",
    "class Child1(Parent):\n",
    "    child1 attr\n",
    "    \n",
    "class Child2(Parent):\n",
    "    Child2 Attri\n",
    "'''"
   ]
  },
  {
   "cell_type": "code",
   "execution_count": 49,
   "metadata": {},
   "outputs": [],
   "source": [
    "# Ex\n",
    "class Parent:\n",
    "    def func1(Self):\n",
    "        print(\"This Function from Parent Class\")\n",
    "        \n",
    "class Child1(Parent):\n",
    "    def func2(self):\n",
    "        print(\"This Function from Child1 Class\")\n",
    "\n",
    "class Child2(Parent):\n",
    "    def func3(self):\n",
    "        print(\"This Function from Child2 Class\")\n",
    "        \n",
    "# Create Objects\n",
    "ch1 = Child1()\n",
    "ch2 = Child2()"
   ]
  },
  {
   "cell_type": "code",
   "execution_count": 51,
   "metadata": {},
   "outputs": [
    {
     "name": "stdout",
     "output_type": "stream",
     "text": [
      "This Function from Parent Class\n",
      "This Function from Child1 Class\n",
      "This Function from Parent Class\n",
      "This Function from Child2 Class\n"
     ]
    }
   ],
   "source": [
    "ch1.func1()\n",
    "ch1.func2()\n",
    "ch2.func1()\n",
    "ch2.func3()"
   ]
  },
  {
   "cell_type": "code",
   "execution_count": 52,
   "metadata": {},
   "outputs": [],
   "source": [
    "# time Module\n",
    "import time"
   ]
  },
  {
   "cell_type": "code",
   "execution_count": 54,
   "metadata": {},
   "outputs": [
    {
     "name": "stdout",
     "output_type": "stream",
     "text": [
      "Wed Sep 30 18:33:17 2020\n",
      "<class 'str'>\n"
     ]
    }
   ],
   "source": [
    "#print current time\n",
    "print(time.ctime())\n",
    "print(type(time.ctime()))"
   ]
  },
  {
   "cell_type": "code",
   "execution_count": 58,
   "metadata": {},
   "outputs": [
    {
     "name": "stdout",
     "output_type": "stream",
     "text": [
      "Hello Students\n"
     ]
    }
   ],
   "source": [
    "# Pause the execution using time\n",
    "time.sleep(5)  #sleep(seconds)\n",
    "print(\"Hello Students\")"
   ]
  },
  {
   "cell_type": "markdown",
   "metadata": {},
   "source": [
    "### TASKS\n",
    "- Save Dynamic string to Random text file\n",
    "- Find dynamic String from Text files\n",
    "  - print number of text files have Dynamic String\n",
    "  - print text files names  having dynamic String"
   ]
  },
  {
   "cell_type": "code",
   "execution_count": null,
   "metadata": {},
   "outputs": [],
   "source": []
  }
 ],
 "metadata": {
  "kernelspec": {
   "display_name": "Python 3",
   "language": "python",
   "name": "python3"
  },
  "language_info": {
   "codemirror_mode": {
    "name": "ipython",
    "version": 3
   },
   "file_extension": ".py",
   "mimetype": "text/x-python",
   "name": "python",
   "nbconvert_exporter": "python",
   "pygments_lexer": "ipython3",
   "version": "3.8.3"
  }
 },
 "nbformat": 4,
 "nbformat_minor": 4
}
